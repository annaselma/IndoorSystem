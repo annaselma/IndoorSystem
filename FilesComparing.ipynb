{
 "cells": [
  {
   "cell_type": "code",
   "execution_count": 25,
   "metadata": {},
   "outputs": [
    {
     "name": "stdout",
     "output_type": "stream",
     "text": [
      "result: True\n",
      "result: True\n",
      "result: True\n",
      "result: True\n",
      "The images are the same\n"
     ]
    }
   ],
   "source": [
    "import cv2\n",
    "import numpy as np\n",
    "import os\n",
    "\n",
    "file1= os.listdir(\"/Users/salmaannagrebah/Documents/DevProjects/IndoorSystemLocation/data\")\n",
    "file2=os.listdir(\"/Users/salmaannagrebah/Documents/DevProjects/IndoorSystemLocation/dataset\")\n",
    "\n",
    "for f1 in file1:\n",
    "    if f1.endswith(\".jpg\"):\n",
    "       image1 = cv2.imread(f1)\n",
    "result= False\n",
    "difference=0\n",
    "for f2 in file2:\n",
    "    if f2.endswith(\".jpg\"):\n",
    "       image2 = cv2.imread(f2)\n",
    "       difference = cv2.subtract(image1, image2)\n",
    "       result = not np.any(difference) #if difference is all zeros it will return False\n",
    "       print (\"result:\", result)\n",
    "               \n",
    "if result is True:\n",
    "     print(\"The images are the same\")\n",
    "else:\n",
    "     cv2.imwrite(\"result.jpg\", difference)\n",
    "     print (\"the images are different\")"
   ]
  },
  {
   "cell_type": "code",
   "execution_count": null,
   "metadata": {},
   "outputs": [],
   "source": []
  }
 ],
 "metadata": {
  "kernelspec": {
   "display_name": "Python 3",
   "language": "python",
   "name": "python3"
  },
  "language_info": {
   "codemirror_mode": {
    "name": "ipython",
    "version": 3
   },
   "file_extension": ".py",
   "mimetype": "text/x-python",
   "name": "python",
   "nbconvert_exporter": "python",
   "pygments_lexer": "ipython3",
   "version": "3.7.6"
  }
 },
 "nbformat": 4,
 "nbformat_minor": 4
}
